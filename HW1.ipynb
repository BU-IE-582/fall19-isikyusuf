{
 "cells": [
  {
   "cell_type": "markdown",
   "metadata": {},
   "source": [
    "# HW-1 Tasks\n"
   ]
  },
  {
   "cell_type": "markdown",
   "metadata": {},
   "source": [
    "Task 1"
   ]
  },
  {
   "cell_type": "code",
   "execution_count": 1,
   "metadata": {
    "collapsed": true
   },
   "outputs": [],
   "source": [
    "import pandas as pd # Veri setleriyle calismak icin\n",
    "import numpy as np  # Seriler ile islem yapmak icin\n",
    "import seaborn as sns # Gorsellestirme icin\n",
    "import matplotlib.pyplot as plt\n",
    "%matplotlib inline\n",
    "import plotly.plotly as py\n",
    "\n"
   ]
  },
  {
   "cell_type": "code",
   "execution_count": 2,
   "metadata": {},
   "outputs": [
    {
     "data": {
      "text/html": [
       "<div>\n",
       "<style scoped>\n",
       "    .dataframe tbody tr th:only-of-type {\n",
       "        vertical-align: middle;\n",
       "    }\n",
       "\n",
       "    .dataframe tbody tr th {\n",
       "        vertical-align: top;\n",
       "    }\n",
       "\n",
       "    .dataframe thead th {\n",
       "        text-align: right;\n",
       "    }\n",
       "</style>\n",
       "<table border=\"1\" class=\"dataframe\">\n",
       "  <thead>\n",
       "    <tr style=\"text-align: right;\">\n",
       "      <th></th>\n",
       "      <th>match_awayteam_id</th>\n",
       "      <th>match_hometeam_id</th>\n",
       "      <th>match_id</th>\n",
       "      <th>epoch</th>\n",
       "      <th>match_status</th>\n",
       "      <th>match_live</th>\n",
       "      <th>match_hometeam_name</th>\n",
       "      <th>match_awayteam_name</th>\n",
       "      <th>match_hometeam_score</th>\n",
       "      <th>match_awayteam_score</th>\n",
       "      <th>match_hometeam_halftime_score</th>\n",
       "      <th>match_awayteam_halftime_score</th>\n",
       "      <th>match_hometeam_extra_score</th>\n",
       "      <th>match_awayteam_extra_score</th>\n",
       "      <th>match_hometeam_penalty_score</th>\n",
       "      <th>match_awayteam_penalty_score</th>\n",
       "      <th>league_id</th>\n",
       "    </tr>\n",
       "  </thead>\n",
       "  <tbody>\n",
       "    <tr>\n",
       "      <th>0</th>\n",
       "      <td>7109</td>\n",
       "      <td>7097</td>\n",
       "      <td>41196</td>\n",
       "      <td>1505559600</td>\n",
       "      <td>Finished</td>\n",
       "      <td>0</td>\n",
       "      <td>Levante</td>\n",
       "      <td>Valencia</td>\n",
       "      <td>1.0</td>\n",
       "      <td>1.0</td>\n",
       "      <td>1.0</td>\n",
       "      <td>1.0</td>\n",
       "      <td>1.0</td>\n",
       "      <td>1.0</td>\n",
       "      <td>NaN</td>\n",
       "      <td>NaN</td>\n",
       "      <td>468</td>\n",
       "    </tr>\n",
       "    <tr>\n",
       "      <th>1</th>\n",
       "      <td>2614</td>\n",
       "      <td>2619</td>\n",
       "      <td>13331</td>\n",
       "      <td>1505561400</td>\n",
       "      <td>Finished</td>\n",
       "      <td>0</td>\n",
       "      <td>Crystal Palace</td>\n",
       "      <td>Southampton</td>\n",
       "      <td>0.0</td>\n",
       "      <td>1.0</td>\n",
       "      <td>0.0</td>\n",
       "      <td>1.0</td>\n",
       "      <td>0.0</td>\n",
       "      <td>1.0</td>\n",
       "      <td>NaN</td>\n",
       "      <td>NaN</td>\n",
       "      <td>148</td>\n",
       "    </tr>\n",
       "    <tr>\n",
       "      <th>2</th>\n",
       "      <td>3224</td>\n",
       "      <td>3238</td>\n",
       "      <td>17683</td>\n",
       "      <td>1505568600</td>\n",
       "      <td>Finished</td>\n",
       "      <td>0</td>\n",
       "      <td>Eintracht Frankfurt</td>\n",
       "      <td>FC Augsburg</td>\n",
       "      <td>1.0</td>\n",
       "      <td>2.0</td>\n",
       "      <td>0.0</td>\n",
       "      <td>1.0</td>\n",
       "      <td>0.0</td>\n",
       "      <td>1.0</td>\n",
       "      <td>NaN</td>\n",
       "      <td>NaN</td>\n",
       "      <td>195</td>\n",
       "    </tr>\n",
       "    <tr>\n",
       "      <th>3</th>\n",
       "      <td>3235</td>\n",
       "      <td>3223</td>\n",
       "      <td>17684</td>\n",
       "      <td>1505568600</td>\n",
       "      <td>Finished</td>\n",
       "      <td>0</td>\n",
       "      <td>SV Werder Bremen</td>\n",
       "      <td>Schalke</td>\n",
       "      <td>1.0</td>\n",
       "      <td>2.0</td>\n",
       "      <td>1.0</td>\n",
       "      <td>1.0</td>\n",
       "      <td>1.0</td>\n",
       "      <td>1.0</td>\n",
       "      <td>NaN</td>\n",
       "      <td>NaN</td>\n",
       "      <td>195</td>\n",
       "    </tr>\n",
       "    <tr>\n",
       "      <th>4</th>\n",
       "      <td>3237</td>\n",
       "      <td>3225</td>\n",
       "      <td>17682</td>\n",
       "      <td>1505568600</td>\n",
       "      <td>Finished</td>\n",
       "      <td>0</td>\n",
       "      <td>Bayern Munich</td>\n",
       "      <td>1. FSV Mainz 05</td>\n",
       "      <td>4.0</td>\n",
       "      <td>0.0</td>\n",
       "      <td>2.0</td>\n",
       "      <td>0.0</td>\n",
       "      <td>2.0</td>\n",
       "      <td>0.0</td>\n",
       "      <td>NaN</td>\n",
       "      <td>NaN</td>\n",
       "      <td>195</td>\n",
       "    </tr>\n",
       "  </tbody>\n",
       "</table>\n",
       "</div>"
      ],
      "text/plain": [
       "   match_awayteam_id  match_hometeam_id  match_id       epoch match_status  \\\n",
       "0               7109               7097     41196  1505559600     Finished   \n",
       "1               2614               2619     13331  1505561400     Finished   \n",
       "2               3224               3238     17683  1505568600     Finished   \n",
       "3               3235               3223     17684  1505568600     Finished   \n",
       "4               3237               3225     17682  1505568600     Finished   \n",
       "\n",
       "   match_live  match_hometeam_name match_awayteam_name  match_hometeam_score  \\\n",
       "0           0              Levante            Valencia                   1.0   \n",
       "1           0       Crystal Palace         Southampton                   0.0   \n",
       "2           0  Eintracht Frankfurt         FC Augsburg                   1.0   \n",
       "3           0     SV Werder Bremen             Schalke                   1.0   \n",
       "4           0        Bayern Munich     1. FSV Mainz 05                   4.0   \n",
       "\n",
       "   match_awayteam_score  match_hometeam_halftime_score  \\\n",
       "0                   1.0                            1.0   \n",
       "1                   1.0                            0.0   \n",
       "2                   2.0                            0.0   \n",
       "3                   2.0                            1.0   \n",
       "4                   0.0                            2.0   \n",
       "\n",
       "   match_awayteam_halftime_score  match_hometeam_extra_score  \\\n",
       "0                            1.0                         1.0   \n",
       "1                            1.0                         0.0   \n",
       "2                            1.0                         0.0   \n",
       "3                            1.0                         1.0   \n",
       "4                            0.0                         2.0   \n",
       "\n",
       "   match_awayteam_extra_score  match_hometeam_penalty_score  \\\n",
       "0                         1.0                           NaN   \n",
       "1                         1.0                           NaN   \n",
       "2                         1.0                           NaN   \n",
       "3                         1.0                           NaN   \n",
       "4                         0.0                           NaN   \n",
       "\n",
       "   match_awayteam_penalty_score  league_id  \n",
       "0                           NaN        468  \n",
       "1                           NaN        148  \n",
       "2                           NaN        195  \n",
       "3                           NaN        195  \n",
       "4                           NaN        195  "
      ]
     },
     "execution_count": 2,
     "metadata": {},
     "output_type": "execute_result"
    }
   ],
   "source": [
    "matches_df= pd.read_csv('matches.csv')\n",
    "matches_df.head(5)"
   ]
  },
  {
   "cell_type": "code",
   "execution_count": 3,
   "metadata": {},
   "outputs": [
    {
     "data": {
      "text/plain": [
       "Text(0.5,1,'Histogram of Home Goals')"
      ]
     },
     "execution_count": 3,
     "metadata": {},
     "output_type": "execute_result"
    },
    {
     "data": {
      "image/png": "[encoded data removed]",
      "text/plain": [
       "<Figure size 432x288 with 1 Axes>"
      ]
     },
     "metadata": {},
     "output_type": "display_data"
    }
   ],
   "source": [
    "x=matches_df['match_hometeam_score']\n",
    "x=x[x.notna()]\n",
    "plt.hist(x, range=(x.min(), x.max()), bins='auto', color='#0504aa',\n",
    "                            alpha=0.7)\n",
    "plt.xlabel('Home Goals')\n",
    "plt.ylabel('Number of games')\n",
    "plt.title('Histogram of Home Goals')\n",
    "#plt.text(60, .025, r'$\\mu=100,\\ \\sigma=15$')"
   ]
  },
  {
   "cell_type": "code",
   "execution_count": 4,
   "metadata": {},
   "outputs": [
    {
     "data": {
      "text/plain": [
       "Text(0.5,1,'Histogram of Away Goals')"
      ]
     },
     "execution_count": 4,
     "metadata": {},
     "output_type": "execute_result"
    },
    {
     "data": {
      "image/png": "[encoded data removed]",
      "text/plain": [
       "<Figure size 432x288 with 1 Axes>"
      ]
     },
     "metadata": {},
     "output_type": "display_data"
    }
   ],
   "source": [
    "k=matches_df['match_awayteam_score']\n",
    "k=k[k.notna()]\n",
    "plt.hist(k, range=(k.min(), k.max()), bins='auto', color='#0504aa',\n",
    "                            alpha=0.7)\n",
    "plt.xlabel('Away Goals')\n",
    "plt.ylabel('Number of games')\n",
    "plt.title('Histogram of Away Goals')"
   ]
  },
  {
   "cell_type": "code",
   "execution_count": 5,
   "metadata": {},
   "outputs": [
    {
     "data": {
      "text/plain": [
       "Text(0.5,1,'Histogram of Difference of Goals')"
      ]
     },
     "execution_count": 5,
     "metadata": {},
     "output_type": "execute_result"
    },
    {
     "data": {
      "image/png": "[encoded data removed]",
      "text/plain": [
       "<Figure size 432x288 with 1 Axes>"
      ]
     },
     "metadata": {},
     "output_type": "display_data"
    }
   ],
   "source": [
    "matches_df['score_difference']=matches_df['match_hometeam_score']-matches_df['match_awayteam_score']\n",
    "m=matches_df['score_difference']\n",
    "m=m[m.notna()]\n",
    "plt.hist(m, range=(m.min(), m.max()), bins='auto', color='#0504aa',\n",
    "                            alpha=0.7)\n",
    "plt.xlabel('Home Score(goals)– Away Score(goals)')\n",
    "plt.ylabel('Number of games')\n",
    "plt.title('Histogram of Difference of Goals')"
   ]
  },
  {
   "cell_type": "code",
   "execution_count": 6,
   "metadata": {},
   "outputs": [
    {
     "name": "stderr",
     "output_type": "stream",
     "text": [
      "/Users/yusufisik/anaconda3/lib/python3.6/site-packages/matplotlib/axes/_axes.py:6462: UserWarning:\n",
      "\n",
      "The 'normed' kwarg is deprecated, and has been replaced by the 'density' kwarg.\n",
      "\n",
      "/Users/yusufisik/anaconda3/lib/python3.6/site-packages/ipykernel_launcher.py:17: DeprecationWarning:\n",
      "\n",
      "`factorial` is deprecated!\n",
      "Importing `factorial` from scipy.misc is deprecated in scipy 1.0.0. Use `scipy.special.factorial` instead.\n",
      "\n"
     ]
    },
    {
     "data": {
      "image/png": "[encoded data removed]",
      "text/plain": [
       "<Figure size 432x288 with 1 Axes>"
      ]
     },
     "metadata": {},
     "output_type": "display_data"
    }
   ],
   "source": [
    "from scipy.stats import poisson\n",
    "from scipy import stats\n",
    "from scipy.optimize import curve_fit\n",
    "from scipy.misc import factorial\n",
    "\n",
    "\n",
    "# get poisson deviated random numbers ---> here is x\n",
    "\n",
    "# the bins should be of integer width, because poisson is an integer distribution\n",
    "entries, bin_edges, patches = plt.hist(x, range=[x.min(), x.max()], normed=True)\n",
    "\n",
    "# calculate binmiddles\n",
    "bin_middles = 0.5*(bin_edges[1:] + bin_edges[:-1])\n",
    "\n",
    "# poisson function, parameter lamb is the fit parameter\n",
    "def poisson(k, lamb):\n",
    "    return (lamb**k/factorial(k)) * np.exp(-lamb)\n",
    "\n",
    "# fit with curve_fit\n",
    "parameters, cov_matrix = curve_fit(poisson, bin_middles, entries) \n",
    "\n",
    "# plot poisson-deviation with fitted parameter\n",
    "x_plot = np.linspace(0, 20, 1000)\n",
    "\n",
    "plt.plot(x_plot, poisson(x_plot, *parameters), 'r-', lw=2)\n",
    "plt.show()"
   ]
  },
  {
   "cell_type": "markdown",
   "metadata": {},
   "source": [
    "#this distribution fits well to the poisson distribution. "
   ]
  },
  {
   "cell_type": "code",
   "execution_count": 7,
   "metadata": {},
   "outputs": [
    {
     "name": "stderr",
     "output_type": "stream",
     "text": [
      "/Users/yusufisik/anaconda3/lib/python3.6/site-packages/matplotlib/axes/_axes.py:6462: UserWarning:\n",
      "\n",
      "The 'normed' kwarg is deprecated, and has been replaced by the 'density' kwarg.\n",
      "\n",
      "/Users/yusufisik/anaconda3/lib/python3.6/site-packages/ipykernel_launcher.py:17: DeprecationWarning:\n",
      "\n",
      "`factorial` is deprecated!\n",
      "Importing `factorial` from scipy.misc is deprecated in scipy 1.0.0. Use `scipy.special.factorial` instead.\n",
      "\n"
     ]
    },
    {
     "data": {
      "image/png": "[encoded data removed]",
      "text/plain": [
       "<Figure size 432x288 with 1 Axes>"
      ]
     },
     "metadata": {},
     "output_type": "display_data"
    }
   ],
   "source": [
    "entries, bin_edges, patches = plt.hist(k, range=[k.min(), k.max()], normed=True)\n",
    "bin_middles = 0.5*(bin_edges[1:] + bin_edges[:-1])\n",
    "parameters, cov_matrix = curve_fit(poisson, bin_middles, entries)\n",
    "\n",
    "x_plot = np.linspace(0, 20, 1000)\n",
    "\n",
    "plt.plot(x_plot, poisson(x_plot, *parameters), 'r-', lw=2)\n",
    "plt.show()"
   ]
  },
  {
   "cell_type": "code",
   "execution_count": 10,
   "metadata": {
    "collapsed": true
   },
   "outputs": [],
   "source": [
    "#this distribution also fits well to the poisson distribution."
   ]
  },
  {
   "cell_type": "code",
   "execution_count": 8,
   "metadata": {},
   "outputs": [
    {
     "name": "stderr",
     "output_type": "stream",
     "text": [
      "/Users/yusufisik/anaconda3/lib/python3.6/site-packages/matplotlib/axes/_axes.py:6462: UserWarning:\n",
      "\n",
      "The 'normed' kwarg is deprecated, and has been replaced by the 'density' kwarg.\n",
      "\n",
      "/Users/yusufisik/anaconda3/lib/python3.6/site-packages/ipykernel_launcher.py:17: DeprecationWarning:\n",
      "\n",
      "`factorial` is deprecated!\n",
      "Importing `factorial` from scipy.misc is deprecated in scipy 1.0.0. Use `scipy.special.factorial` instead.\n",
      "\n",
      "/Users/yusufisik/anaconda3/lib/python3.6/site-packages/ipykernel_launcher.py:17: RuntimeWarning:\n",
      "\n",
      "divide by zero encountered in true_divide\n",
      "\n",
      "/Users/yusufisik/anaconda3/lib/python3.6/site-packages/scipy/optimize/minpack.py:794: OptimizeWarning:\n",
      "\n",
      "Covariance of the parameters could not be estimated\n",
      "\n"
     ]
    },
    {
     "data": {
      "image/png": "[encoded data removed]",
      "text/plain": [
       "<Figure size 432x288 with 1 Axes>"
      ]
     },
     "metadata": {},
     "output_type": "display_data"
    }
   ],
   "source": [
    "entries, bin_edges, patches = plt.hist(m, range=[m.min(), m.max()], normed=True)\n",
    "bin_middles = 0.5*(bin_edges[1:] + bin_edges[:-1])\n",
    "parameters, cov_matrix = curve_fit(poisson, bin_middles, entries)\n",
    "\n",
    "x_plot = np.linspace(0, 20, 1000)\n",
    "\n",
    "plt.plot(x_plot, poisson(x_plot, *parameters), 'r-', lw=2)\n",
    "plt.show()"
   ]
  },
  {
   "cell_type": "code",
   "execution_count": 9,
   "metadata": {
    "collapsed": true
   },
   "outputs": [],
   "source": [
    "#this does not fit well to the poisson distribution, instead it looks normally distributed"
   ]
  },
  {
   "cell_type": "code",
   "execution_count": null,
   "metadata": {
    "collapsed": true
   },
   "outputs": [],
   "source": []
  }
 ],
 "metadata": {
  "kernelspec": {
   "display_name": "Python 3",
   "language": "python",
   "name": "python3"
  },
  "language_info": {
   "codemirror_mode": {
    "name": "ipython",
    "version": 3
   },
   "file_extension": ".py",
   "mimetype": "text/x-python",
   "name": "python",
   "nbconvert_exporter": "python",
   "pygments_lexer": "ipython3",
   "version": "3.6.9"
  }
 },
 "nbformat": 4,
 "nbformat_minor": 2
}
